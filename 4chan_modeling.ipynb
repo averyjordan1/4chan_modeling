{
 "cells": [
  {
   "cell_type": "code",
   "execution_count": 1,
   "metadata": {},
   "outputs": [
    {
     "name": "stdout",
     "output_type": "stream",
     "text": [
      "[nltk_data] Downloading package stopwords to /root/nltk_data...\n",
      "[nltk_data]   Package stopwords is already up-to-date!\n",
      "[nltk_data] Downloading package wordnet to /root/nltk_data...\n",
      "[nltk_data]   Package wordnet is already up-to-date!\n"
     ]
    }
   ],
   "source": [
    "from chan_modeling.archiving import MyThreads, clean, train, analyze, MySentences, get_single_vector\n",
    "from chan_modeling.lda_modeling import train_lda_model, prepare_dictionary, get_topics_for_document\n",
    "from chan_modeling.functional_helpers import nth\n",
    "import gensim\n",
    "from gensim.models.ldamodel import LdaModel\n",
    "from gensim.models.word2vec import FAST_VERSION\n",
    "import pprint\n",
    "from collections import Counter\n",
    "from operator import itemgetter\n",
    "import matplotlib.pyplot as plt\n",
    "%matplotlib inline"
   ]
  },
  {
   "cell_type": "code",
   "execution_count": null,
   "metadata": {},
   "outputs": [],
   "source": [
    "train(50, 4, fname='test_model', dir_name='biz_archive')"
   ]
  },
  {
   "cell_type": "code",
   "execution_count": 2,
   "metadata": {},
   "outputs": [
    {
     "name": "stderr",
     "output_type": "stream",
     "text": [
      "2018-08-07 06:01:20,855 : INFO : loading Word2VecKeyedVectors object from models/test_model_vectors\n",
      "2018-08-07 06:01:21,127 : INFO : setting ignored attribute vectors_norm to None\n",
      "2018-08-07 06:01:21,129 : INFO : loaded models/test_model_vectors\n",
      "2018-08-07 06:01:21,134 : INFO : precomputing L2-norms of word weight vectors\n"
     ]
    }
   ],
   "source": [
    "analyze(50, 4, vector_fname='models/test_model_vectors', test_file_name='test_file.txt')"
   ]
  },
  {
   "cell_type": "code",
   "execution_count": 2,
   "metadata": {},
   "outputs": [
    {
     "name": "stderr",
     "output_type": "stream",
     "text": [
      "2018-08-07 06:01:42,422 : INFO : loading Word2VecKeyedVectors object from models/test_model_vectors\n",
      "2018-08-07 06:01:42,696 : INFO : setting ignored attribute vectors_norm to None\n",
      "2018-08-07 06:01:42,698 : INFO : loaded models/test_model_vectors\n",
      "2018-08-07 06:01:42,702 : INFO : precomputing L2-norms of word weight vectors\n"
     ]
    }
   ],
   "source": [
    "vec = get_single_vector('altcoin', 'models/test_model_vectors')"
   ]
  },
  {
   "cell_type": "code",
   "execution_count": 98,
   "metadata": {},
   "outputs": [],
   "source": [
    "def plot_word(word, plt, cosine_score, y, count):\n",
    "    # draw a point on the line\n",
    "    px = (10*((cosine_score - .5) *2))\n",
    "    plt.plot(px,y, 'ro', ms = 15, mfc = 'r')\n",
    "\n",
    "    align='right'\n",
    "    # add an arrow\n",
    "    annotation_y = 2\n",
    "    #adjust up or down\n",
    "    if count % 2 == 0:\n",
    "        annotation_y = -2\n",
    " \n",
    "        \n",
    "    plt.annotate(\"{} @ {}\".format(word, round(cosine_score, 2)), (px,y), xytext = (px - .1, y + annotation_y), \n",
    "                  arrowprops=dict(facecolor='black', shrink=0.1), \n",
    "                  horizontalalignment='right')\n"
   ]
  },
  {
   "cell_type": "code",
   "execution_count": 99,
   "metadata": {},
   "outputs": [],
   "source": [
    "def plot_similarity_vector(vector, main_word):\n",
    "    # set up the figure\n",
    "    fig = plt.figure(figsize=(20,5))\n",
    "    ax = fig.add_subplot(111)\n",
    "    ax.set_xlim(0,10)\n",
    "    ax.set_ylim(0,10)\n",
    "\n",
    "    # draw lines\n",
    "    xmin = 0\n",
    "    xmax = 10\n",
    "    y = 5\n",
    "    height = 1\n",
    "\n",
    "    plt.hlines(y, xmin, xmax)\n",
    "    plt.vlines(xmin, y - height / 2., y + height / 2.)\n",
    "    plt.vlines(xmax, y - height / 2., y + height / 2.)\n",
    "\n",
    "    for count, component in enumerate(vector):\n",
    "        plot_word(component[0], plt, component[1], y, count)\n",
    "\n",
    "    # add numbers\n",
    "    plt.text(xmin - 0.01, y, '.5', horizontalalignment='right')\n",
    "    plt.text(xmax + 0.01, y, '1', horizontalalignment='left')\n",
    "\n",
    "    plt.axis('off')\n",
    "    plt.show()"
   ]
  },
  {
   "cell_type": "code",
   "execution_count": 107,
   "metadata": {},
   "outputs": [],
   "source": [
    "def plot_vector(word, model):\n",
    "    vec = get_single_vector(word, model)\n",
    "    plot_similarity_vector(vec, word)"
   ]
  },
  {
   "cell_type": "code",
   "execution_count": 111,
   "metadata": {},
   "outputs": [
    {
     "name": "stderr",
     "output_type": "stream",
     "text": [
      "2018-08-07 06:18:11,582 : INFO : loading Word2VecKeyedVectors object from models/test_model_vectors\n",
      "2018-08-07 06:18:11,887 : INFO : setting ignored attribute vectors_norm to None\n",
      "2018-08-07 06:18:11,888 : INFO : loaded models/test_model_vectors\n",
      "2018-08-07 06:18:11,889 : INFO : precomputing L2-norms of word weight vectors\n"
     ]
    },
    {
     "data": {
      "image/png": "[encoded data removed]",
      "text/plain": [
       "<Figure size 1440x360 with 1 Axes>"
      ]
     },
     "metadata": {},
     "output_type": "display_data"
    }
   ],
   "source": [
    "plot_vector('usd', 'models/test_model_vectors')"
   ]
  },
  {
   "cell_type": "code",
   "execution_count": 3,
   "metadata": {},
   "outputs": [],
   "source": [
    "# phrases = gensim.models.Phrases(threads)"
   ]
  },
  {
   "cell_type": "code",
   "execution_count": 4,
   "metadata": {},
   "outputs": [],
   "source": [
    "# bigrams = gensim.models.phrases.Phraser(phrases)"
   ]
  },
  {
   "cell_type": "code",
   "execution_count": 5,
   "metadata": {},
   "outputs": [],
   "source": [
    "# nth(bigrams[threads], 45)"
   ]
  },
  {
   "cell_type": "code",
   "execution_count": 6,
   "metadata": {},
   "outputs": [
    {
     "name": "stderr",
     "output_type": "stream",
     "text": [
      "2018-07-23 05:20:33,119 : INFO : adding document #0 to Dictionary(0 unique tokens: [])\n",
      "2018-07-23 05:21:07,445 : INFO : adding document #10000 to Dictionary(93571 unique tokens: ['nuls', 'status', 'update', 'considering', 'buying']...)\n",
      "2018-07-23 05:21:36,117 : INFO : adding document #20000 to Dictionary(156199 unique tokens: ['nuls', 'status', 'update', 'considering', 'buying']...)\n",
      "2018-07-23 05:21:49,536 : INFO : built Dictionary(183094 unique tokens: ['nuls', 'status', 'update', 'considering', 'buying']...) from 24526 documents (total 3231880 corpus positions)\n"
     ]
    }
   ],
   "source": [
    "doc_term_matrix, dictionary = prepare_dictionary(threads)"
   ]
  },
  {
   "cell_type": "code",
   "execution_count": null,
   "metadata": {},
   "outputs": [],
   "source": [
    "model = train_lda_model(100, dictionary, doc_term_matrix, 6, 10)"
   ]
  },
  {
   "cell_type": "code",
   "execution_count": 8,
   "metadata": {},
   "outputs": [],
   "source": [
    "# model = LdaModel.load('models/ldamodel')"
   ]
  },
  {
   "cell_type": "code",
   "execution_count": 11,
   "metadata": {},
   "outputs": [],
   "source": [
    "freqs = Counter()\n",
    "get_highest_prob_topics = lambda x: x[1] > .1\n",
    "first = itemgetter(0)\n",
    "for thread in threads:\n",
    "    tops = get_topics_for_document(thread, model, dictionary)\n",
    "    topics = map(first, list(filter(get_highest_prob_topics, tops)))\n",
    "    freqs[frozenset(topics)] += 1"
   ]
  },
  {
   "cell_type": "code",
   "execution_count": 13,
   "metadata": {},
   "outputs": [
    {
     "name": "stdout",
     "output_type": "stream",
     "text": [
      "[(frozenset({17}), 396),\n",
      " (frozenset({56}), 240),\n",
      " (frozenset({2}), 226),\n",
      " (frozenset({26}), 165),\n",
      " (frozenset({52}), 150),\n",
      " (frozenset({95}), 58),\n",
      " (frozenset({96}), 54),\n",
      " (frozenset({57}), 46),\n",
      " (frozenset({65}), 42),\n",
      " (frozenset({20}), 38),\n",
      " (frozenset({8}), 26),\n",
      " (frozenset({67}), 25),\n",
      " (frozenset({89}), 21),\n",
      " (frozenset({88}), 20),\n",
      " (frozenset({23}), 19),\n",
      " (frozenset({31}), 17),\n",
      " (frozenset({39}), 16),\n",
      " (frozenset({53}), 15),\n",
      " (frozenset({76}), 14),\n",
      " (frozenset({54}), 13),\n",
      " (frozenset({9}), 12),\n",
      " (frozenset({34}), 11),\n",
      " (frozenset({50}), 11),\n",
      " (frozenset({86}), 11),\n",
      " (frozenset({51}), 11),\n",
      " (frozenset({75}), 11)]\n"
     ]
    }
   ],
   "source": [
    "second_element = itemgetter(1)\n",
    "more_than_ten_documents = lambda x: x[1] > 10\n",
    "more_than_one_topic = lambda x: len(x[0]) > 1\n",
    "only_one_topic = lambda x: len(x[0]) == 1\n",
    "\n",
    "key_topics = sorted(freqs.items(), key=second_element, reverse=True)\n",
    "groups = list(filter(only_one_topic, key_topics))\n",
    "groups = list(filter(more_than_ten_documents, groups))\n",
    "pprint.pprint(groups)"
   ]
  },
  {
   "cell_type": "code",
   "execution_count": null,
   "metadata": {},
   "outputs": [],
   "source": [
    "group_sets, _ = zip(*groups)\n",
    "for grp in group_sets:\n",
    "    print(\"=\"*30)    \n",
    "    print(list(grp))\n",
    "    for topic in zip(grp, map(model.show_topic, grp)):\n",
    "        pprint.pprint(list(topic))\n",
    "        print('\\n')    "
   ]
  },
  {
   "cell_type": "code",
   "execution_count": null,
   "metadata": {},
   "outputs": [],
   "source": [
    "for topic in zip(topics, map(model.show_topic, topics)):\n",
    "    print(topic)\n",
    "    print('\\n')"
   ]
  },
  {
   "cell_type": "code",
   "execution_count": null,
   "metadata": {},
   "outputs": [],
   "source": [
    "model.top_topics(dictionary=dictionary, corpus=doc_term_matrix)"
   ]
  }
 ],
 "metadata": {
  "kernelspec": {
   "display_name": "Python 3",
   "language": "python",
   "name": "python3"
  },
  "language_info": {
   "codemirror_mode": {
    "name": "ipython",
    "version": 3
   },
   "file_extension": ".py",
   "mimetype": "text/x-python",
   "name": "python",
   "nbconvert_exporter": "python",
   "pygments_lexer": "ipython3",
   "version": "3.6.6"
  }
 },
 "nbformat": 4,
 "nbformat_minor": 2
}
